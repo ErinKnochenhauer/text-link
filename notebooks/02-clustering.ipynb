{
 "cells": [
  {
   "cell_type": "markdown",
   "metadata": {},
   "source": [
    "## Density Based Clustering"
   ]
  },
  {
   "cell_type": "code",
   "execution_count": 1,
   "metadata": {},
   "outputs": [],
   "source": [
    "import sys\n",
    "import os\n",
    "import warnings\n",
    "warnings.filterwarnings('ignore')\n",
    "\n",
    "from hyperopt import hp\n",
    "\n",
    "sys.path.append(os.path.abspath(os.path.join('..')))\n",
    "from utilities.clustering_ import cluster_text"
   ]
  },
  {
   "cell_type": "code",
   "execution_count": 2,
   "metadata": {},
   "outputs": [],
   "source": [
    "# below is an sample of synthetic data for illustration\n",
    "SYNTHETIC_DATA = [\n",
    "    'Energlo Matte Liquid Lipstick 369 Plum Bump',\n",
    "    'Dermahue Light High',\n",
    "    'Chromaluxe Color Design Lipstick',\n",
    "    'Dermahue Makeup Les Nus by Colour Design',\n",
    "    'Chromaluxe Color Design 6 Shadow & Liner Palette',\n",
    "    'Energlo Liquid Lipstick 245 Rose Blush',\n",
    "    'Dermahue Radiant Glow Highlighter',\n",
    "    'Chromaluxe Color Design Palette',\n",
    "    'Dermahue Makeup Les Nus',\n",
    "    'Chromaluxe Color Design Matte Shadow Palette',\n",
    "    'Energlo Matte Liquid Lipstick 369 Plum Bump',\n",
    "    'Dermahue Light High',\n",
    "    'Chromaluxe Color Design Lipstick',\n",
    "    'Dermahue Makeup Les Nus by Colour Design',\n",
    "    'Chromaluxe Color Design 6 Shadow & Liner Palette',\n",
    "    'Energlo Liquid Lipstick 245 Rose Blush',\n",
    "    'Dermahue Radiant Glow Highlighter',\n",
    "    'Chromaluxe Color Design Palette',\n",
    "    'Dermahue Makeup Les Nus',\n",
    "    'Chromaluxe Color Design Matte Shadow Palette'\n",
    "    ]\n",
    "\n",
    "# Restricted hyperparameter ranges to use with small synthetic data\n",
    "HSPACE = {\n",
    "    \"n_neighbors\": hp.choice('n_neighbors', range(3, 7)),\n",
    "    \"n_components\": hp.choice('n_components', range(5, 15)),\n",
    "    \"min_cluster_size\": hp.choice('min_cluster_size', range(2, 5)),\n",
    "    \"cluster_selection_epsilon\": hp.choice('cluster_selection_epsilon', range(0, 1)),\n",
    "    \"random_state\": 42\n",
    "}\n",
    "\n",
    "CLUSTER_PARAMS = {\n",
    "    \"label_lower\": 2,  # minimum number of clusters\n",
    "    \"label_upper\": 10,  # maximum number of clusters\n",
    "    \"max_evals\": 25\n",
    "}"
   ]
  },
  {
   "cell_type": "code",
   "execution_count": 3,
   "metadata": {},
   "outputs": [
    {
     "name": "stdout",
     "output_type": "stream",
     "text": [
      "Max Sequence Length: 256\n",
      "100%|██████████| 25/25 [00:33<00:00,  1.33s/trial, best loss: 0.0]\n",
      "best:\n",
      "{'cluster_selection_epsilon': 0, 'min_cluster_size': 3, 'n_components': 9, 'n_neighbors': 6, 'random_state': 42}\n",
      "label count: 4\n"
     ]
    },
    {
     "data": {
      "application/vnd.plotly.v1+json": {
       "config": {
        "plotlyServerURL": "https://plot.ly"
       },
       "data": [
        {
         "customdata": [
          [
           "Energlo Matte Liquid Lipstick 369 Plum Bump",
           0
          ],
          [
           "Dermahue Light High",
           2
          ],
          [
           "Chromaluxe Color Design Lipstick",
           3
          ],
          [
           "Dermahue Makeup Les Nus by Colour Design",
           1
          ],
          [
           "Chromaluxe Color Design 6 Shadow & Liner Palette",
           3
          ],
          [
           "Energlo Liquid Lipstick 245 Rose Blush",
           0
          ],
          [
           "Dermahue Radiant Glow Highlighter",
           2
          ],
          [
           "Chromaluxe Color Design Palette",
           3
          ],
          [
           "Dermahue Makeup Les Nus",
           1
          ],
          [
           "Chromaluxe Color Design Matte Shadow Palette",
           3
          ],
          [
           "Energlo Matte Liquid Lipstick 369 Plum Bump",
           0
          ],
          [
           "Dermahue Light High",
           2
          ],
          [
           "Chromaluxe Color Design Lipstick",
           3
          ],
          [
           "Dermahue Makeup Les Nus by Colour Design",
           1
          ],
          [
           "Chromaluxe Color Design 6 Shadow & Liner Palette",
           3
          ],
          [
           "Energlo Liquid Lipstick 245 Rose Blush",
           0
          ],
          [
           "Dermahue Radiant Glow Highlighter",
           2
          ],
          [
           "Chromaluxe Color Design Palette",
           3
          ],
          [
           "Dermahue Makeup Les Nus",
           1
          ],
          [
           "Chromaluxe Color Design Matte Shadow Palette",
           3
          ]
         ],
         "hovertemplate": "<b>%{hovertext}</b><br><br>text=%{customdata[0]}<extra></extra>",
         "hovertext": [
          0,
          2,
          3,
          1,
          3,
          0,
          2,
          3,
          1,
          3,
          0,
          2,
          3,
          1,
          3,
          0,
          2,
          3,
          1,
          3
         ],
         "legendgroup": "",
         "marker": {
          "color": [
           0,
           2,
           3,
           1,
           3,
           0,
           2,
           3,
           1,
           3,
           0,
           2,
           3,
           1,
           3,
           0,
           2,
           3,
           1,
           3
          ],
          "coloraxis": "coloraxis",
          "symbol": "circle"
         },
         "mode": "markers",
         "name": "",
         "scene": "scene",
         "showlegend": false,
         "type": "scatter3d",
         "x": [
          17.539012908935547,
          28.571531295776367,
          14.382718086242676,
          5.985920429229736,
          14.634882926940918,
          17.443418502807617,
          28.977968215942383,
          14.560603141784668,
          5.666935443878174,
          14.859304428100586,
          17.21677589416504,
          29.20408821105957,
          14.17457103729248,
          5.697193145751953,
          14.727087020874023,
          17.158279418945312,
          28.74555778503418,
          14.792749404907227,
          6.08965539932251,
          14.97275161743164
         ],
         "y": [
          3.3085198402404785,
          19.879655838012695,
          11.666560173034668,
          -0.373961865901947,
          12.504677772521973,
          3.3102686405181885,
          20.286226272583008,
          11.763422966003418,
          -0.632178544998169,
          12.398982048034668,
          3.3197574615478516,
          20.512332916259766,
          11.947649002075195,
          -0.6551608443260193,
          12.284361839294434,
          2.990232467651367,
          20.053667068481445,
          12.079266548156738,
          -0.6922317147254944,
          11.98998737335205
         ],
         "z": [
          14.390615463256836,
          9.050837516784668,
          4.144252300262451,
          6.613085746765137,
          5.221833229064941,
          14.723888397216797,
          9.457511901855469,
          4.625121116638184,
          6.479457378387451,
          4.852156639099121,
          14.236310958862305,
          9.683445930480957,
          4.188370227813721,
          6.966964244842529,
          5.52072286605835,
          14.660334587097168,
          9.224687576293945,
          4.230890274047852,
          6.834161758422852,
          5.116684913635254
         ]
        }
       ],
       "layout": {
        "coloraxis": {
         "colorbar": {
          "title": {
           "text": "cluster"
          }
         },
         "colorscale": [
          [
           0,
           "rgb(150,0,90)"
          ],
          [
           0.125,
           "rgb(0,0,200)"
          ],
          [
           0.25,
           "rgb(0,25,255)"
          ],
          [
           0.375,
           "rgb(0,152,255)"
          ],
          [
           0.5,
           "rgb(44,255,150)"
          ],
          [
           0.625,
           "rgb(151,255,0)"
          ],
          [
           0.75,
           "rgb(255,234,0)"
          ],
          [
           0.875,
           "rgb(255,111,0)"
          ],
          [
           1,
           "rgb(255,0,0)"
          ]
         ]
        },
        "height": 800,
        "legend": {
         "tracegroupgap": 0
        },
        "margin": {
         "b": 0,
         "l": 0,
         "r": 0,
         "t": 0
        },
        "scene": {
         "domain": {
          "x": [
           0,
           1
          ],
          "y": [
           0,
           1
          ]
         },
         "xaxis": {
          "title": {
           "text": "d1"
          }
         },
         "yaxis": {
          "title": {
           "text": "d2"
          }
         },
         "zaxis": {
          "title": {
           "text": "d3"
          }
         }
        },
        "template": {
         "data": {
          "bar": [
           {
            "error_x": {
             "color": "#2a3f5f"
            },
            "error_y": {
             "color": "#2a3f5f"
            },
            "marker": {
             "line": {
              "color": "#E5ECF6",
              "width": 0.5
             },
             "pattern": {
              "fillmode": "overlay",
              "size": 10,
              "solidity": 0.2
             }
            },
            "type": "bar"
           }
          ],
          "barpolar": [
           {
            "marker": {
             "line": {
              "color": "#E5ECF6",
              "width": 0.5
             },
             "pattern": {
              "fillmode": "overlay",
              "size": 10,
              "solidity": 0.2
             }
            },
            "type": "barpolar"
           }
          ],
          "carpet": [
           {
            "aaxis": {
             "endlinecolor": "#2a3f5f",
             "gridcolor": "white",
             "linecolor": "white",
             "minorgridcolor": "white",
             "startlinecolor": "#2a3f5f"
            },
            "baxis": {
             "endlinecolor": "#2a3f5f",
             "gridcolor": "white",
             "linecolor": "white",
             "minorgridcolor": "white",
             "startlinecolor": "#2a3f5f"
            },
            "type": "carpet"
           }
          ],
          "choropleth": [
           {
            "colorbar": {
             "outlinewidth": 0,
             "ticks": ""
            },
            "type": "choropleth"
           }
          ],
          "contour": [
           {
            "colorbar": {
             "outlinewidth": 0,
             "ticks": ""
            },
            "colorscale": [
             [
              0,
              "#0d0887"
             ],
             [
              0.1111111111111111,
              "#46039f"
             ],
             [
              0.2222222222222222,
              "#7201a8"
             ],
             [
              0.3333333333333333,
              "#9c179e"
             ],
             [
              0.4444444444444444,
              "#bd3786"
             ],
             [
              0.5555555555555556,
              "#d8576b"
             ],
             [
              0.6666666666666666,
              "#ed7953"
             ],
             [
              0.7777777777777778,
              "#fb9f3a"
             ],
             [
              0.8888888888888888,
              "#fdca26"
             ],
             [
              1,
              "#f0f921"
             ]
            ],
            "type": "contour"
           }
          ],
          "contourcarpet": [
           {
            "colorbar": {
             "outlinewidth": 0,
             "ticks": ""
            },
            "type": "contourcarpet"
           }
          ],
          "heatmap": [
           {
            "colorbar": {
             "outlinewidth": 0,
             "ticks": ""
            },
            "colorscale": [
             [
              0,
              "#0d0887"
             ],
             [
              0.1111111111111111,
              "#46039f"
             ],
             [
              0.2222222222222222,
              "#7201a8"
             ],
             [
              0.3333333333333333,
              "#9c179e"
             ],
             [
              0.4444444444444444,
              "#bd3786"
             ],
             [
              0.5555555555555556,
              "#d8576b"
             ],
             [
              0.6666666666666666,
              "#ed7953"
             ],
             [
              0.7777777777777778,
              "#fb9f3a"
             ],
             [
              0.8888888888888888,
              "#fdca26"
             ],
             [
              1,
              "#f0f921"
             ]
            ],
            "type": "heatmap"
           }
          ],
          "heatmapgl": [
           {
            "colorbar": {
             "outlinewidth": 0,
             "ticks": ""
            },
            "colorscale": [
             [
              0,
              "#0d0887"
             ],
             [
              0.1111111111111111,
              "#46039f"
             ],
             [
              0.2222222222222222,
              "#7201a8"
             ],
             [
              0.3333333333333333,
              "#9c179e"
             ],
             [
              0.4444444444444444,
              "#bd3786"
             ],
             [
              0.5555555555555556,
              "#d8576b"
             ],
             [
              0.6666666666666666,
              "#ed7953"
             ],
             [
              0.7777777777777778,
              "#fb9f3a"
             ],
             [
              0.8888888888888888,
              "#fdca26"
             ],
             [
              1,
              "#f0f921"
             ]
            ],
            "type": "heatmapgl"
           }
          ],
          "histogram": [
           {
            "marker": {
             "pattern": {
              "fillmode": "overlay",
              "size": 10,
              "solidity": 0.2
             }
            },
            "type": "histogram"
           }
          ],
          "histogram2d": [
           {
            "colorbar": {
             "outlinewidth": 0,
             "ticks": ""
            },
            "colorscale": [
             [
              0,
              "#0d0887"
             ],
             [
              0.1111111111111111,
              "#46039f"
             ],
             [
              0.2222222222222222,
              "#7201a8"
             ],
             [
              0.3333333333333333,
              "#9c179e"
             ],
             [
              0.4444444444444444,
              "#bd3786"
             ],
             [
              0.5555555555555556,
              "#d8576b"
             ],
             [
              0.6666666666666666,
              "#ed7953"
             ],
             [
              0.7777777777777778,
              "#fb9f3a"
             ],
             [
              0.8888888888888888,
              "#fdca26"
             ],
             [
              1,
              "#f0f921"
             ]
            ],
            "type": "histogram2d"
           }
          ],
          "histogram2dcontour": [
           {
            "colorbar": {
             "outlinewidth": 0,
             "ticks": ""
            },
            "colorscale": [
             [
              0,
              "#0d0887"
             ],
             [
              0.1111111111111111,
              "#46039f"
             ],
             [
              0.2222222222222222,
              "#7201a8"
             ],
             [
              0.3333333333333333,
              "#9c179e"
             ],
             [
              0.4444444444444444,
              "#bd3786"
             ],
             [
              0.5555555555555556,
              "#d8576b"
             ],
             [
              0.6666666666666666,
              "#ed7953"
             ],
             [
              0.7777777777777778,
              "#fb9f3a"
             ],
             [
              0.8888888888888888,
              "#fdca26"
             ],
             [
              1,
              "#f0f921"
             ]
            ],
            "type": "histogram2dcontour"
           }
          ],
          "mesh3d": [
           {
            "colorbar": {
             "outlinewidth": 0,
             "ticks": ""
            },
            "type": "mesh3d"
           }
          ],
          "parcoords": [
           {
            "line": {
             "colorbar": {
              "outlinewidth": 0,
              "ticks": ""
             }
            },
            "type": "parcoords"
           }
          ],
          "pie": [
           {
            "automargin": true,
            "type": "pie"
           }
          ],
          "scatter": [
           {
            "fillpattern": {
             "fillmode": "overlay",
             "size": 10,
             "solidity": 0.2
            },
            "type": "scatter"
           }
          ],
          "scatter3d": [
           {
            "line": {
             "colorbar": {
              "outlinewidth": 0,
              "ticks": ""
             }
            },
            "marker": {
             "colorbar": {
              "outlinewidth": 0,
              "ticks": ""
             }
            },
            "type": "scatter3d"
           }
          ],
          "scattercarpet": [
           {
            "marker": {
             "colorbar": {
              "outlinewidth": 0,
              "ticks": ""
             }
            },
            "type": "scattercarpet"
           }
          ],
          "scattergeo": [
           {
            "marker": {
             "colorbar": {
              "outlinewidth": 0,
              "ticks": ""
             }
            },
            "type": "scattergeo"
           }
          ],
          "scattergl": [
           {
            "marker": {
             "colorbar": {
              "outlinewidth": 0,
              "ticks": ""
             }
            },
            "type": "scattergl"
           }
          ],
          "scattermapbox": [
           {
            "marker": {
             "colorbar": {
              "outlinewidth": 0,
              "ticks": ""
             }
            },
            "type": "scattermapbox"
           }
          ],
          "scatterpolar": [
           {
            "marker": {
             "colorbar": {
              "outlinewidth": 0,
              "ticks": ""
             }
            },
            "type": "scatterpolar"
           }
          ],
          "scatterpolargl": [
           {
            "marker": {
             "colorbar": {
              "outlinewidth": 0,
              "ticks": ""
             }
            },
            "type": "scatterpolargl"
           }
          ],
          "scatterternary": [
           {
            "marker": {
             "colorbar": {
              "outlinewidth": 0,
              "ticks": ""
             }
            },
            "type": "scatterternary"
           }
          ],
          "surface": [
           {
            "colorbar": {
             "outlinewidth": 0,
             "ticks": ""
            },
            "colorscale": [
             [
              0,
              "#0d0887"
             ],
             [
              0.1111111111111111,
              "#46039f"
             ],
             [
              0.2222222222222222,
              "#7201a8"
             ],
             [
              0.3333333333333333,
              "#9c179e"
             ],
             [
              0.4444444444444444,
              "#bd3786"
             ],
             [
              0.5555555555555556,
              "#d8576b"
             ],
             [
              0.6666666666666666,
              "#ed7953"
             ],
             [
              0.7777777777777778,
              "#fb9f3a"
             ],
             [
              0.8888888888888888,
              "#fdca26"
             ],
             [
              1,
              "#f0f921"
             ]
            ],
            "type": "surface"
           }
          ],
          "table": [
           {
            "cells": {
             "fill": {
              "color": "#EBF0F8"
             },
             "line": {
              "color": "white"
             }
            },
            "header": {
             "fill": {
              "color": "#C8D4E3"
             },
             "line": {
              "color": "white"
             }
            },
            "type": "table"
           }
          ]
         },
         "layout": {
          "annotationdefaults": {
           "arrowcolor": "#2a3f5f",
           "arrowhead": 0,
           "arrowwidth": 1
          },
          "autotypenumbers": "strict",
          "coloraxis": {
           "colorbar": {
            "outlinewidth": 0,
            "ticks": ""
           }
          },
          "colorscale": {
           "diverging": [
            [
             0,
             "#8e0152"
            ],
            [
             0.1,
             "#c51b7d"
            ],
            [
             0.2,
             "#de77ae"
            ],
            [
             0.3,
             "#f1b6da"
            ],
            [
             0.4,
             "#fde0ef"
            ],
            [
             0.5,
             "#f7f7f7"
            ],
            [
             0.6,
             "#e6f5d0"
            ],
            [
             0.7,
             "#b8e186"
            ],
            [
             0.8,
             "#7fbc41"
            ],
            [
             0.9,
             "#4d9221"
            ],
            [
             1,
             "#276419"
            ]
           ],
           "sequential": [
            [
             0,
             "#0d0887"
            ],
            [
             0.1111111111111111,
             "#46039f"
            ],
            [
             0.2222222222222222,
             "#7201a8"
            ],
            [
             0.3333333333333333,
             "#9c179e"
            ],
            [
             0.4444444444444444,
             "#bd3786"
            ],
            [
             0.5555555555555556,
             "#d8576b"
            ],
            [
             0.6666666666666666,
             "#ed7953"
            ],
            [
             0.7777777777777778,
             "#fb9f3a"
            ],
            [
             0.8888888888888888,
             "#fdca26"
            ],
            [
             1,
             "#f0f921"
            ]
           ],
           "sequentialminus": [
            [
             0,
             "#0d0887"
            ],
            [
             0.1111111111111111,
             "#46039f"
            ],
            [
             0.2222222222222222,
             "#7201a8"
            ],
            [
             0.3333333333333333,
             "#9c179e"
            ],
            [
             0.4444444444444444,
             "#bd3786"
            ],
            [
             0.5555555555555556,
             "#d8576b"
            ],
            [
             0.6666666666666666,
             "#ed7953"
            ],
            [
             0.7777777777777778,
             "#fb9f3a"
            ],
            [
             0.8888888888888888,
             "#fdca26"
            ],
            [
             1,
             "#f0f921"
            ]
           ]
          },
          "colorway": [
           "#636efa",
           "#EF553B",
           "#00cc96",
           "#ab63fa",
           "#FFA15A",
           "#19d3f3",
           "#FF6692",
           "#B6E880",
           "#FF97FF",
           "#FECB52"
          ],
          "font": {
           "color": "#2a3f5f"
          },
          "geo": {
           "bgcolor": "white",
           "lakecolor": "white",
           "landcolor": "#E5ECF6",
           "showlakes": true,
           "showland": true,
           "subunitcolor": "white"
          },
          "hoverlabel": {
           "align": "left"
          },
          "hovermode": "closest",
          "mapbox": {
           "style": "light"
          },
          "paper_bgcolor": "white",
          "plot_bgcolor": "#E5ECF6",
          "polar": {
           "angularaxis": {
            "gridcolor": "white",
            "linecolor": "white",
            "ticks": ""
           },
           "bgcolor": "#E5ECF6",
           "radialaxis": {
            "gridcolor": "white",
            "linecolor": "white",
            "ticks": ""
           }
          },
          "scene": {
           "xaxis": {
            "backgroundcolor": "#E5ECF6",
            "gridcolor": "white",
            "gridwidth": 2,
            "linecolor": "white",
            "showbackground": true,
            "ticks": "",
            "zerolinecolor": "white"
           },
           "yaxis": {
            "backgroundcolor": "#E5ECF6",
            "gridcolor": "white",
            "gridwidth": 2,
            "linecolor": "white",
            "showbackground": true,
            "ticks": "",
            "zerolinecolor": "white"
           },
           "zaxis": {
            "backgroundcolor": "#E5ECF6",
            "gridcolor": "white",
            "gridwidth": 2,
            "linecolor": "white",
            "showbackground": true,
            "ticks": "",
            "zerolinecolor": "white"
           }
          },
          "shapedefaults": {
           "line": {
            "color": "#2a3f5f"
           }
          },
          "ternary": {
           "aaxis": {
            "gridcolor": "white",
            "linecolor": "white",
            "ticks": ""
           },
           "baxis": {
            "gridcolor": "white",
            "linecolor": "white",
            "ticks": ""
           },
           "bgcolor": "#E5ECF6",
           "caxis": {
            "gridcolor": "white",
            "linecolor": "white",
            "ticks": ""
           }
          },
          "title": {
           "x": 0.05
          },
          "xaxis": {
           "automargin": true,
           "gridcolor": "white",
           "linecolor": "white",
           "ticks": "",
           "title": {
            "standoff": 15
           },
           "zerolinecolor": "white",
           "zerolinewidth": 2
          },
          "yaxis": {
           "automargin": true,
           "gridcolor": "white",
           "linecolor": "white",
           "ticks": "",
           "title": {
            "standoff": 15
           },
           "zerolinecolor": "white",
           "zerolinewidth": 2
          }
         }
        },
        "width": 1000
       }
      }
     },
     "metadata": {},
     "output_type": "display_data"
    },
    {
     "data": {
      "text/html": [
       "<div>\n",
       "<style scoped>\n",
       "    .dataframe tbody tr th:only-of-type {\n",
       "        vertical-align: middle;\n",
       "    }\n",
       "\n",
       "    .dataframe tbody tr th {\n",
       "        vertical-align: top;\n",
       "    }\n",
       "\n",
       "    .dataframe thead th {\n",
       "        text-align: right;\n",
       "    }\n",
       "</style>\n",
       "<table border=\"1\" class=\"dataframe\">\n",
       "  <thead>\n",
       "    <tr style=\"text-align: right;\">\n",
       "      <th></th>\n",
       "      <th>Doc</th>\n",
       "      <th>ClusterID</th>\n",
       "      <th>probability</th>\n",
       "      <th>Doc_ID</th>\n",
       "    </tr>\n",
       "  </thead>\n",
       "  <tbody>\n",
       "    <tr>\n",
       "      <th>0</th>\n",
       "      <td>Energlo Matte Liquid Lipstick 369 Plum Bump</td>\n",
       "      <td>0</td>\n",
       "      <td>1.0</td>\n",
       "      <td>0</td>\n",
       "    </tr>\n",
       "    <tr>\n",
       "      <th>5</th>\n",
       "      <td>Energlo Liquid Lipstick 245 Rose Blush</td>\n",
       "      <td>0</td>\n",
       "      <td>1.0</td>\n",
       "      <td>5</td>\n",
       "    </tr>\n",
       "    <tr>\n",
       "      <th>15</th>\n",
       "      <td>Energlo Liquid Lipstick 245 Rose Blush</td>\n",
       "      <td>0</td>\n",
       "      <td>1.0</td>\n",
       "      <td>15</td>\n",
       "    </tr>\n",
       "    <tr>\n",
       "      <th>10</th>\n",
       "      <td>Energlo Matte Liquid Lipstick 369 Plum Bump</td>\n",
       "      <td>0</td>\n",
       "      <td>1.0</td>\n",
       "      <td>10</td>\n",
       "    </tr>\n",
       "    <tr>\n",
       "      <th>3</th>\n",
       "      <td>Dermahue Makeup Les Nus by Colour Design</td>\n",
       "      <td>1</td>\n",
       "      <td>1.0</td>\n",
       "      <td>3</td>\n",
       "    </tr>\n",
       "    <tr>\n",
       "      <th>8</th>\n",
       "      <td>Dermahue Makeup Les Nus</td>\n",
       "      <td>1</td>\n",
       "      <td>1.0</td>\n",
       "      <td>8</td>\n",
       "    </tr>\n",
       "    <tr>\n",
       "      <th>18</th>\n",
       "      <td>Dermahue Makeup Les Nus</td>\n",
       "      <td>1</td>\n",
       "      <td>1.0</td>\n",
       "      <td>18</td>\n",
       "    </tr>\n",
       "    <tr>\n",
       "      <th>13</th>\n",
       "      <td>Dermahue Makeup Les Nus by Colour Design</td>\n",
       "      <td>1</td>\n",
       "      <td>1.0</td>\n",
       "      <td>13</td>\n",
       "    </tr>\n",
       "    <tr>\n",
       "      <th>1</th>\n",
       "      <td>Dermahue Light High</td>\n",
       "      <td>2</td>\n",
       "      <td>1.0</td>\n",
       "      <td>1</td>\n",
       "    </tr>\n",
       "    <tr>\n",
       "      <th>16</th>\n",
       "      <td>Dermahue Radiant Glow Highlighter</td>\n",
       "      <td>2</td>\n",
       "      <td>1.0</td>\n",
       "      <td>16</td>\n",
       "    </tr>\n",
       "    <tr>\n",
       "      <th>6</th>\n",
       "      <td>Dermahue Radiant Glow Highlighter</td>\n",
       "      <td>2</td>\n",
       "      <td>1.0</td>\n",
       "      <td>6</td>\n",
       "    </tr>\n",
       "    <tr>\n",
       "      <th>11</th>\n",
       "      <td>Dermahue Light High</td>\n",
       "      <td>2</td>\n",
       "      <td>1.0</td>\n",
       "      <td>11</td>\n",
       "    </tr>\n",
       "    <tr>\n",
       "      <th>17</th>\n",
       "      <td>Chromaluxe Color Design Palette</td>\n",
       "      <td>3</td>\n",
       "      <td>1.0</td>\n",
       "      <td>17</td>\n",
       "    </tr>\n",
       "    <tr>\n",
       "      <th>14</th>\n",
       "      <td>Chromaluxe Color Design 6 Shadow &amp; Liner Palette</td>\n",
       "      <td>3</td>\n",
       "      <td>1.0</td>\n",
       "      <td>14</td>\n",
       "    </tr>\n",
       "    <tr>\n",
       "      <th>9</th>\n",
       "      <td>Chromaluxe Color Design Matte Shadow Palette</td>\n",
       "      <td>3</td>\n",
       "      <td>1.0</td>\n",
       "      <td>9</td>\n",
       "    </tr>\n",
       "    <tr>\n",
       "      <th>7</th>\n",
       "      <td>Chromaluxe Color Design Palette</td>\n",
       "      <td>3</td>\n",
       "      <td>1.0</td>\n",
       "      <td>7</td>\n",
       "    </tr>\n",
       "    <tr>\n",
       "      <th>4</th>\n",
       "      <td>Chromaluxe Color Design 6 Shadow &amp; Liner Palette</td>\n",
       "      <td>3</td>\n",
       "      <td>1.0</td>\n",
       "      <td>4</td>\n",
       "    </tr>\n",
       "    <tr>\n",
       "      <th>2</th>\n",
       "      <td>Chromaluxe Color Design Lipstick</td>\n",
       "      <td>3</td>\n",
       "      <td>1.0</td>\n",
       "      <td>2</td>\n",
       "    </tr>\n",
       "    <tr>\n",
       "      <th>12</th>\n",
       "      <td>Chromaluxe Color Design Lipstick</td>\n",
       "      <td>3</td>\n",
       "      <td>1.0</td>\n",
       "      <td>12</td>\n",
       "    </tr>\n",
       "    <tr>\n",
       "      <th>19</th>\n",
       "      <td>Chromaluxe Color Design Matte Shadow Palette</td>\n",
       "      <td>3</td>\n",
       "      <td>1.0</td>\n",
       "      <td>19</td>\n",
       "    </tr>\n",
       "  </tbody>\n",
       "</table>\n",
       "</div>"
      ],
      "text/plain": [
       "                                                 Doc  ClusterID  probability  \\\n",
       "0        Energlo Matte Liquid Lipstick 369 Plum Bump          0          1.0   \n",
       "5             Energlo Liquid Lipstick 245 Rose Blush          0          1.0   \n",
       "15            Energlo Liquid Lipstick 245 Rose Blush          0          1.0   \n",
       "10       Energlo Matte Liquid Lipstick 369 Plum Bump          0          1.0   \n",
       "3           Dermahue Makeup Les Nus by Colour Design          1          1.0   \n",
       "8                            Dermahue Makeup Les Nus          1          1.0   \n",
       "18                           Dermahue Makeup Les Nus          1          1.0   \n",
       "13          Dermahue Makeup Les Nus by Colour Design          1          1.0   \n",
       "1                                Dermahue Light High          2          1.0   \n",
       "16                 Dermahue Radiant Glow Highlighter          2          1.0   \n",
       "6                  Dermahue Radiant Glow Highlighter          2          1.0   \n",
       "11                               Dermahue Light High          2          1.0   \n",
       "17                   Chromaluxe Color Design Palette          3          1.0   \n",
       "14  Chromaluxe Color Design 6 Shadow & Liner Palette          3          1.0   \n",
       "9       Chromaluxe Color Design Matte Shadow Palette          3          1.0   \n",
       "7                    Chromaluxe Color Design Palette          3          1.0   \n",
       "4   Chromaluxe Color Design 6 Shadow & Liner Palette          3          1.0   \n",
       "2                   Chromaluxe Color Design Lipstick          3          1.0   \n",
       "12                  Chromaluxe Color Design Lipstick          3          1.0   \n",
       "19      Chromaluxe Color Design Matte Shadow Palette          3          1.0   \n",
       "\n",
       "    Doc_ID  \n",
       "0        0  \n",
       "5        5  \n",
       "15      15  \n",
       "10      10  \n",
       "3        3  \n",
       "8        8  \n",
       "18      18  \n",
       "13      13  \n",
       "1        1  \n",
       "16      16  \n",
       "6        6  \n",
       "11      11  \n",
       "17      17  \n",
       "14      14  \n",
       "9        9  \n",
       "7        7  \n",
       "4        4  \n",
       "2        2  \n",
       "12      12  \n",
       "19      19  "
      ]
     },
     "execution_count": 3,
     "metadata": {},
     "output_type": "execute_result"
    }
   ],
   "source": [
    "results = cluster_text(unique_text=SYNTHETIC_DATA,\n",
    "                       hspace=HSPACE,\n",
    "                       max_evals=CLUSTER_PARAMS['max_evals'],\n",
    "                       label_lower=CLUSTER_PARAMS['label_lower'],\n",
    "                       label_upper=CLUSTER_PARAMS['label_upper'])\n",
    "results"
   ]
  }
 ],
 "metadata": {
  "interpreter": {
   "hash": "c9fc3e659de2c0ac40cf8c033b572889ab59d03d074fc5992c4b081e96f208d3"
  },
  "kernelspec": {
   "display_name": "Python 3.8.2 64-bit ('.venv': pipenv)",
   "name": "python3"
  },
  "language_info": {
   "codemirror_mode": {
    "name": "ipython",
    "version": 3
   },
   "file_extension": ".py",
   "mimetype": "text/x-python",
   "name": "python",
   "nbconvert_exporter": "python",
   "pygments_lexer": "ipython3",
   "version": "3.10.7"
  },
  "orig_nbformat": 4
 },
 "nbformat": 4,
 "nbformat_minor": 2
}
